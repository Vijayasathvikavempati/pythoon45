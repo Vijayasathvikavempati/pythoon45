{
 "cells": [
  {
   "cell_type": "code",
   "execution_count": 1,
   "id": "c7991d3b",
   "metadata": {},
   "outputs": [
    {
     "name": "stdout",
     "output_type": "stream",
     "text": [
      "{'eid': 120, 'ename': 'rahul', 'detail': {'email': 'rahul@gmail.com', 'eloc': 'wayanad'}}\n"
     ]
    }
   ],
   "source": [
    "emp ={\n",
    "    'eid':101,\n",
    "    'ename':'rahul',\n",
    "    'detail':{\n",
    "             'email':'rahul@gmail.com',\n",
    "             'eloc':'wayanad'\n",
    "             }\n",
    "     }\n",
    "\n",
    "emp['eid'] = 120 \n",
    "print(emp)"
   ]
  },
  {
   "cell_type": "code",
   "execution_count": 2,
   "id": "29d135d1",
   "metadata": {},
   "outputs": [
    {
     "name": "stdout",
     "output_type": "stream",
     "text": [
      "{'eid': 101, 'ename': 'rahul', 'detail': {'email': 'rahul@gmail.com', 'eloc': 'wayanad'}, 'esal': 45000.0}\n"
     ]
    }
   ],
   "source": [
    "emp ={\n",
    "    'eid':101,\n",
    "    'ename':'rahul',\n",
    "    'detail':{\n",
    "             'email':'rahul@gmail.com',\n",
    "             'eloc':'wayanad'\n",
    "             }\n",
    "     }\n",
    "\n",
    "emp['esal'] = 45000.00\n",
    "\n",
    "print(emp)"
   ]
  },
  {
   "cell_type": "code",
   "execution_count": 3,
   "id": "d13aeaf8",
   "metadata": {},
   "outputs": [
    {
     "name": "stdout",
     "output_type": "stream",
     "text": [
      "{'eid': 101, 'ename': 'rahul', 'detail': {'email': 'rahul@gmail.com', 'eloc': 'wayanad'}}\n"
     ]
    }
   ],
   "source": [
    "emp ={\n",
    "    'eid':101,\n",
    "    'ename':'rahul',\n",
    "    'detail':{\n",
    "             'email':'rahul@gmail.com',\n",
    "             'eloc':'wayanad'\n",
    "             }\n",
    "     }\n",
    "\n",
    "emp.setdefault('ename',\"rahul Gandhi\")\n",
    "print(emp)"
   ]
  },
  {
   "cell_type": "code",
   "execution_count": 5,
   "id": "dd0b6691",
   "metadata": {},
   "outputs": [
    {
     "name": "stdout",
     "output_type": "stream",
     "text": [
      "{'eid': 101, 'ename': 'rahul', 'detail': {'email': 'rahul@gmail.com', 'eloc': 'wayanad'}, 'emp_nick_name': 'rg'}\n"
     ]
    }
   ],
   "source": [
    "emp ={\n",
    "    'eid':101,\n",
    "    'ename':'rahul',\n",
    "    'detail':{\n",
    "             'email':'rahul@gmail.com',\n",
    "             'eloc':'wayanad'\n",
    "             }\n",
    "     }\n",
    "\n",
    "emp.setdefault('emp_nick_name','rg')\n",
    "\n",
    "print(emp)\n"
   ]
  },
  {
   "cell_type": "code",
   "execution_count": 7,
   "id": "e712014d",
   "metadata": {},
   "outputs": [
    {
     "ename": "ValueError",
     "evalue": "dictionary update sequence element #0 has length 1; 2 is required",
     "output_type": "error",
     "traceback": [
      "\u001b[1;31m---------------------------------------------------------------------------\u001b[0m",
      "\u001b[1;31mValueError\u001b[0m                                Traceback (most recent call last)",
      "\u001b[1;32m~\\AppData\\Local\\Temp\\ipykernel_7836\\1481509947.py\u001b[0m in \u001b[0;36m<module>\u001b[1;34m\u001b[0m\n\u001b[0;32m      8\u001b[0m      }\n\u001b[0;32m      9\u001b[0m \u001b[1;33m\u001b[0m\u001b[0m\n\u001b[1;32m---> 10\u001b[1;33m \u001b[0memp\u001b[0m\u001b[1;33m.\u001b[0m\u001b[0mupdate\u001b[0m\u001b[1;33m(\u001b[0m\u001b[1;34m'100'\u001b[0m\u001b[1;33m)\u001b[0m\u001b[1;33m\u001b[0m\u001b[0m\n\u001b[0m\u001b[0;32m     11\u001b[0m \u001b[0mprint\u001b[0m\u001b[1;33m(\u001b[0m\u001b[0memp\u001b[0m\u001b[1;33m)\u001b[0m\u001b[1;33m\u001b[0m\u001b[0m\n",
      "\u001b[1;31mValueError\u001b[0m: dictionary update sequence element #0 has length 1; 2 is required"
     ]
    }
   ],
   "source": [
    "emp ={\n",
    "    'eid':101,\n",
    "    'ename':'rahul',\n",
    "    'detail':{\n",
    "             'email':'rahul@gmail.com',\n",
    "             'eloc':'wayanad'\n",
    "             }\n",
    "     }\n",
    "\n",
    "emp.update('100')\n",
    "print(emp)"
   ]
  },
  {
   "cell_type": "code",
   "execution_count": 9,
   "id": "16adf83b",
   "metadata": {},
   "outputs": [
    {
     "ename": "ValueError",
     "evalue": "dictionary update sequence element #0 has length 1; 2 is required",
     "output_type": "error",
     "traceback": [
      "\u001b[1;31m---------------------------------------------------------------------------\u001b[0m",
      "\u001b[1;31mValueError\u001b[0m                                Traceback (most recent call last)",
      "\u001b[1;32m~\\AppData\\Local\\Temp\\ipykernel_7836\\583590918.py\u001b[0m in \u001b[0;36m<module>\u001b[1;34m\u001b[0m\n\u001b[0;32m      8\u001b[0m      }\n\u001b[0;32m      9\u001b[0m \u001b[1;33m\u001b[0m\u001b[0m\n\u001b[1;32m---> 10\u001b[1;33m \u001b[0memp\u001b[0m\u001b[1;33m.\u001b[0m\u001b[0mupdate\u001b[0m\u001b[1;33m(\u001b[0m\u001b[1;34m'Hello'\u001b[0m\u001b[1;33m)\u001b[0m\u001b[1;33m\u001b[0m\u001b[0m\n\u001b[0m",
      "\u001b[1;31mValueError\u001b[0m: dictionary update sequence element #0 has length 1; 2 is required"
     ]
    }
   ],
   "source": [
    "emp ={\n",
    "    'eid':101,\n",
    "    'ename':'rahul',\n",
    "    'detail':{\n",
    "             'email':'rahul@gmail.com',\n",
    "             'eloc':'wayanad'\n",
    "             }\n",
    "     }\n",
    "\n",
    "emp.update('Hello')"
   ]
  },
  {
   "cell_type": "code",
   "execution_count": 12,
   "id": "554378ad",
   "metadata": {},
   "outputs": [
    {
     "name": "stdout",
     "output_type": "stream",
     "text": [
      "{'eid': 120, 'ename': 'rahul', 'detail': {'email': 'rahul@gmail.com', 'eloc': 'wayanad'}, 'new_Id': 4343}\n"
     ]
    }
   ],
   "source": [
    "emp ={\n",
    "    'eid':101,\n",
    "    'ename':'rahul',\n",
    "    'detail':{\n",
    "             'email':'rahul@gmail.com',\n",
    "             'eloc':'wayanad'\n",
    "             }\n",
    "     }\n",
    "\n",
    "\n",
    "emp.update({'eid':120, 'new_Id':4343})\n",
    "print(emp)"
   ]
  },
  {
   "cell_type": "code",
   "execution_count": 14,
   "id": "a17a89ac",
   "metadata": {},
   "outputs": [
    {
     "name": "stdout",
     "output_type": "stream",
     "text": [
      "{'eid': 101, 'ename': 'rahul'}\n"
     ]
    }
   ],
   "source": [
    "emp ={\n",
    "    'eid':101,\n",
    "    'ename':'rahul',\n",
    "    'detail':{\n",
    "             'email':'rahul@gmail.com',\n",
    "             'eloc':'wayanad'\n",
    "             }\n",
    "     }\n",
    "\n",
    "emp.pop('detail')\n",
    "\n",
    "print(emp)"
   ]
  },
  {
   "cell_type": "code",
   "execution_count": 15,
   "id": "55707767",
   "metadata": {},
   "outputs": [
    {
     "name": "stdout",
     "output_type": "stream",
     "text": [
      "{'eid': 101, 'ename': 'rahul'}\n"
     ]
    }
   ],
   "source": [
    "emp ={\n",
    "    'eid':101,\n",
    "    'ename':'rahul',\n",
    "    'detail':{\n",
    "             'email':'rahul@gmail.com',\n",
    "             'eloc':'wayanad'\n",
    "             }\n",
    "     }\n",
    "\n",
    "emp.popitem()\n",
    "print(emp)"
   ]
  },
  {
   "cell_type": "code",
   "execution_count": 18,
   "id": "cde76f6b",
   "metadata": {},
   "outputs": [
    {
     "name": "stdout",
     "output_type": "stream",
     "text": [
      "{'eid': 101, 'ename': 'rahul'}\n"
     ]
    }
   ],
   "source": [
    "emp ={\n",
    "    'eid':101,\n",
    "    'ename':'rahul',\n",
    "    'detail':{\n",
    "             'email':'rahul@gmail.com',\n",
    "             'eloc':'wayanad'\n",
    "             }\n",
    "     \n",
    "    }\n",
    "#del emp['detail']\n",
    "#emp.pop('detail')\n",
    "emp.popitem()\n",
    "print(emp)"
   ]
  },
  {
   "cell_type": "code",
   "execution_count": null,
   "id": "c231dca0",
   "metadata": {},
   "outputs": [],
   "source": []
  }
 ],
 "metadata": {
  "kernelspec": {
   "display_name": "Python 3 (ipykernel)",
   "language": "python",
   "name": "python3"
  },
  "language_info": {
   "codemirror_mode": {
    "name": "ipython",
    "version": 3
   },
   "file_extension": ".py",
   "mimetype": "text/x-python",
   "name": "python",
   "nbconvert_exporter": "python",
   "pygments_lexer": "ipython3",
   "version": "3.7.0"
  }
 },
 "nbformat": 4,
 "nbformat_minor": 5
}
