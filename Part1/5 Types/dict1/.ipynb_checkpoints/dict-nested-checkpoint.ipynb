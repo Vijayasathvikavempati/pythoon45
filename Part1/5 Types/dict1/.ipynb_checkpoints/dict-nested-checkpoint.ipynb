{
 "cells": [
  {
   "cell_type": "code",
   "execution_count": 1,
   "id": "0e1512ea",
   "metadata": {},
   "outputs": [
    {
     "name": "stdout",
     "output_type": "stream",
     "text": [
      "({'id': 1, 'title': 'iPhone 9', 'description': 'An apple mobile which is nothing like apple', 'price': 549, 'discountPercentage': 12.96, 'rating': 4.69, 'stock': 94, 'brand': 'Apple', 'category': 'smartphones', 'thumbnail': 'https://i.dummyjson.com/data/products/1/thumbnail.jpg', 'images': ['https://i.dummyjson.com/data/products/1/1.jpg', 'https://i.dummyjson.com/data/products/1/2.jpg', 'https://i.dummyjson.com/data/products/1/3.jpg', 'https://i.dummyjson.com/data/products/1/4.jpg', 'https://i.dummyjson.com/data/products/1/thumbnail.jpg']}, {'id': 1, 'title': 'iPhone 9', 'description': 'An apple mobile which is nothing like apple', 'price': 549, 'discountPercentage': 12.96, 'rating': 4.69, 'stock': 94, 'brand': 'Apple', 'category': 'smartphones', 'thumbnail': 'https://i.dummyjson.com/data/products/1/thumbnail.jpg', 'images': ['https://i.dummyjson.com/data/products/1/1.jpg', 'https://i.dummyjson.com/data/products/1/2.jpg', 'https://i.dummyjson.com/data/products/1/3.jpg', 'https://i.dummyjson.com/data/products/1/4.jpg', 'https://i.dummyjson.com/data/products/1/thumbnail.jpg']})\n"
     ]
    }
   ],
   "source": [
    "product = {\n",
    "\"id\": 1,\n",
    "\"title\": \"iPhone 9\",\n",
    "\"description\": \"An apple mobile which is nothing like apple\",\n",
    "\"price\": 549,\n",
    "\"discountPercentage\": 12.96,\n",
    "\"rating\": 4.69,\n",
    "\"stock\": 94,\n",
    "\"brand\": \"Apple\",\n",
    "\"category\": \"smartphones\",\n",
    "\"thumbnail\": \"https://i.dummyjson.com/data/products/1/thumbnail.jpg\",\n",
    "\"images\": [\n",
    "\"https://i.dummyjson.com/data/products/1/1.jpg\",\n",
    "\"https://i.dummyjson.com/data/products/1/2.jpg\",\n",
    "\"https://i.dummyjson.com/data/products/1/3.jpg\",\n",
    "\"https://i.dummyjson.com/data/products/1/4.jpg\",\n",
    "\"https://i.dummyjson.com/data/products/1/thumbnail.jpg\"\n",
    "]\n",
    "},{\n",
    "\"id\": 1,\n",
    "\"title\": \"iPhone 9\",\n",
    "\"description\": \"An apple mobile which is nothing like apple\",\n",
    "\"price\": 549,\n",
    "\"discountPercentage\": 12.96,\n",
    "\"rating\": 4.69,\n",
    "\"stock\": 94,\n",
    "\"brand\": \"Apple\",\n",
    "\"category\": \"smartphones\",\n",
    "\"thumbnail\": \"https://i.dummyjson.com/data/products/1/thumbnail.jpg\",\n",
    "\"images\": [\n",
    "\"https://i.dummyjson.com/data/products/1/1.jpg\",\n",
    "\"https://i.dummyjson.com/data/products/1/2.jpg\",\n",
    "\"https://i.dummyjson.com/data/products/1/3.jpg\",\n",
    "\"https://i.dummyjson.com/data/products/1/4.jpg\",\n",
    "\"https://i.dummyjson.com/data/products/1/thumbnail.jpg\"\n",
    "]\n",
    "}\n",
    "\n",
    "print(product)"
   ]
  },
  {
   "cell_type": "code",
   "execution_count": 2,
   "id": "805b7bee",
   "metadata": {},
   "outputs": [
    {
     "ename": "TypeError",
     "evalue": "tuple indices must be integers or slices, not str",
     "output_type": "error",
     "traceback": [
      "\u001b[1;31m---------------------------------------------------------------------------\u001b[0m",
      "\u001b[1;31mTypeError\u001b[0m                                 Traceback (most recent call last)",
      "\u001b[1;32m~\\AppData\\Local\\Temp\\ipykernel_1472\\3566171371.py\u001b[0m in \u001b[0;36m<module>\u001b[1;34m\u001b[0m\n\u001b[0;32m     19\u001b[0m }\n\u001b[0;32m     20\u001b[0m \u001b[1;33m\u001b[0m\u001b[0m\n\u001b[1;32m---> 21\u001b[1;33m \u001b[0mprint\u001b[0m\u001b[1;33m(\u001b[0m\u001b[0mproduct\u001b[0m\u001b[1;33m[\u001b[0m\u001b[1;34m'rating'\u001b[0m\u001b[1;33m]\u001b[0m\u001b[1;33m)\u001b[0m\u001b[1;33m\u001b[0m\u001b[0m\n\u001b[0m",
      "\u001b[1;31mTypeError\u001b[0m: tuple indices must be integers or slices, not str"
     ]
    }
   ],
   "source": [
    "{\n",
    "\"id\": 1,\n",
    "\"title\": \"iPhone 9\",\n",
    "\"description\": \"An apple mobile which is nothing like apple\",\n",
    "\"price\": 549,\n",
    "\"discountPercentage\": 12.96,\n",
    "\"rating\": 4.69,\n",
    "\"stock\": 94,\n",
    "\"brand\": \"Apple\",\n",
    "\"category\": \"smartphones\",\n",
    "\"thumbnail\": \"https://i.dummyjson.com/data/products/1/thumbnail.jpg\",\n",
    "\"images\": [\n",
    "\"https://i.dummyjson.com/data/products/1/1.jpg\",\n",
    "\"https://i.dummyjson.com/data/products/1/2.jpg\",\n",
    "\"https://i.dummyjson.com/data/products/1/3.jpg\",\n",
    "\"https://i.dummyjson.com/data/products/1/4.jpg\",\n",
    "\"https://i.dummyjson.com/data/products/1/thumbnail.jpg\"\n",
    "]\n",
    "}\n",
    "\n",
    "print(product['rating'])"
   ]
  },
  {
   "cell_type": "code",
   "execution_count": 4,
   "id": "f2799a1a",
   "metadata": {},
   "outputs": [
    {
     "name": "stdout",
     "output_type": "stream",
     "text": [
      "rahul@gmail.com\n"
     ]
    }
   ],
   "source": [
    "emp ={\n",
    "    'eid':101,\n",
    "    'ename':'rahul',\n",
    "    'detail':{\n",
    "             'email':'rahul@gmail.com',\n",
    "             'eloc':'wayanad'\n",
    "             }\n",
    "     }\n",
    "#print emp email id \n",
    "print(emp['detail']['email'])"
   ]
  },
  {
   "cell_type": "code",
   "execution_count": null,
   "id": "3c3f98bf",
   "metadata": {},
   "outputs": [],
   "source": []
  }
 ],
 "metadata": {
  "kernelspec": {
   "display_name": "Python 3 (ipykernel)",
   "language": "python",
   "name": "python3"
  },
  "language_info": {
   "codemirror_mode": {
    "name": "ipython",
    "version": 3
   },
   "file_extension": ".py",
   "mimetype": "text/x-python",
   "name": "python",
   "nbconvert_exporter": "python",
   "pygments_lexer": "ipython3",
   "version": "3.7.0"
  }
 },
 "nbformat": 4,
 "nbformat_minor": 5
}
