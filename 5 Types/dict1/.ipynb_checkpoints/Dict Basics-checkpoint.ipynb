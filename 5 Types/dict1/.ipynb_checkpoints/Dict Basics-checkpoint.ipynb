{
 "cells": [
  {
   "cell_type": "code",
   "execution_count": 1,
   "id": "2eb4a2a5",
   "metadata": {},
   "outputs": [
    {
     "name": "stdout",
     "output_type": "stream",
     "text": [
      "{}\n"
     ]
    }
   ],
   "source": [
    "d= {}  #empty dict\n",
    "\n",
    "\n",
    "print(d)"
   ]
  },
  {
   "cell_type": "code",
   "execution_count": 2,
   "id": "9265b4cf",
   "metadata": {},
   "outputs": [
    {
     "name": "stdout",
     "output_type": "stream",
     "text": [
      "<class 'dict'>\n"
     ]
    }
   ],
   "source": [
    "d = {}\n",
    "print(type(d))"
   ]
  },
  {
   "cell_type": "code",
   "execution_count": 3,
   "id": "c6fb266d",
   "metadata": {},
   "outputs": [
    {
     "name": "stdout",
     "output_type": "stream",
     "text": [
      "{'eid': 101, 'ename': 'Rahul Gandhi', 'esal': 45000.0}\n"
     ]
    }
   ],
   "source": [
    "emp = {\n",
    "    'eid':101,\n",
    "    'ename':'Rahul Gandhi',\n",
    "    'esal':45000.00\n",
    "}\n",
    "print(emp)"
   ]
  },
  {
   "cell_type": "code",
   "execution_count": 5,
   "id": "80e56c02",
   "metadata": {},
   "outputs": [
    {
     "name": "stdout",
     "output_type": "stream",
     "text": [
      "101\n",
      "Rahul Gandhi\n",
      "45000.0\n"
     ]
    }
   ],
   "source": [
    "emp = {\n",
    "    'eid':101,\n",
    "    'ename':'Rahul Gandhi',\n",
    "    'esal':45000.00\n",
    "}\n",
    "\n",
    "print(emp['eid'])\n",
    "print(emp['ename'])\n",
    "print(emp['esal'])"
   ]
  },
  {
   "cell_type": "code",
   "execution_count": 6,
   "id": "7d6e3b85",
   "metadata": {},
   "outputs": [
    {
     "ename": "KeyError",
     "evalue": "'loc'",
     "output_type": "error",
     "traceback": [
      "\u001b[1;31m---------------------------------------------------------------------------\u001b[0m",
      "\u001b[1;31mKeyError\u001b[0m                                  Traceback (most recent call last)",
      "\u001b[1;32m~\\AppData\\Local\\Temp\\ipykernel_17140\\1410219434.py\u001b[0m in \u001b[0;36m<module>\u001b[1;34m\u001b[0m\n\u001b[0;32m      5\u001b[0m }\n\u001b[0;32m      6\u001b[0m \u001b[1;33m\u001b[0m\u001b[0m\n\u001b[1;32m----> 7\u001b[1;33m \u001b[0mprint\u001b[0m\u001b[1;33m(\u001b[0m\u001b[0memp\u001b[0m\u001b[1;33m[\u001b[0m\u001b[1;34m'loc'\u001b[0m\u001b[1;33m]\u001b[0m\u001b[1;33m)\u001b[0m\u001b[1;33m\u001b[0m\u001b[0m\n\u001b[0m",
      "\u001b[1;31mKeyError\u001b[0m: 'loc'"
     ]
    }
   ],
   "source": [
    "emp = {\n",
    "    'eid':101,\n",
    "    'ename':'Rahul Gandhi',\n",
    "    'esal':45000.00\n",
    "}\n",
    "\n",
    "print(emp['loc'])"
   ]
  },
  {
   "cell_type": "code",
   "execution_count": 8,
   "id": "6284d98b",
   "metadata": {},
   "outputs": [
    {
     "name": "stdout",
     "output_type": "stream",
     "text": [
      "dict_keys(['eid', 'ename', 'esal'])\n",
      "eid\n",
      "ename\n",
      "esal\n"
     ]
    }
   ],
   "source": [
    "emp = {\n",
    "    'eid':101,\n",
    "    'ename':'Rahul Gandhi',\n",
    "    'esal':45000.00\n",
    "}\n",
    "\n",
    "#print all keys\n",
    "print(emp.keys())\n",
    "\n",
    "for key in emp.keys():\n",
    "    print(key)"
   ]
  },
  {
   "cell_type": "code",
   "execution_count": 9,
   "id": "bbffea15",
   "metadata": {},
   "outputs": [
    {
     "name": "stdout",
     "output_type": "stream",
     "text": [
      "dict_values([101, 'Rahul Gandhi', 45000.0])\n"
     ]
    }
   ],
   "source": [
    "emp = {\n",
    "    'eid':101,\n",
    "    'ename':'Rahul Gandhi',\n",
    "    'esal':45000.00\n",
    "}\n",
    "\n",
    "print(emp.values())"
   ]
  },
  {
   "cell_type": "code",
   "execution_count": 10,
   "id": "107c01aa",
   "metadata": {},
   "outputs": [
    {
     "name": "stdout",
     "output_type": "stream",
     "text": [
      "101\n",
      "Rahul Gandhi\n",
      "45000.0\n"
     ]
    }
   ],
   "source": [
    "emp = {\n",
    "    'eid':101,\n",
    "    'ename':'Rahul Gandhi',\n",
    "    'esal':45000.00\n",
    "}\n",
    "\n",
    "#print all values\n",
    "\n",
    "for value in emp.values():\n",
    "    print(value)"
   ]
  },
  {
   "cell_type": "code",
   "execution_count": 11,
   "id": "b2a613eb",
   "metadata": {},
   "outputs": [
    {
     "name": "stdout",
     "output_type": "stream",
     "text": [
      "dict_keys(['eid', 'ename', 'esal'])\n",
      "dict_values([101, 'Rahul Gandhi', 45000.0])\n",
      "dict_items([('eid', 101), ('ename', 'Rahul Gandhi'), ('esal', 45000.0)])\n"
     ]
    }
   ],
   "source": [
    "emp = {\n",
    "    'eid':101,\n",
    "    'ename':'Rahul Gandhi',\n",
    "    'esal':45000.00\n",
    "}\n",
    "\n",
    "print(emp.keys())\n",
    "print(emp.values())\n",
    "print(emp.items())\n"
   ]
  },
  {
   "cell_type": "code",
   "execution_count": 12,
   "id": "d51fbd09",
   "metadata": {},
   "outputs": [
    {
     "name": "stdout",
     "output_type": "stream",
     "text": [
      "dict_keys(['eid', 'ename', 'esal'])\n",
      "eid\n",
      "ename\n",
      "esal\n"
     ]
    }
   ],
   "source": [
    "print(emp.keys())\n",
    "\n",
    "for key,value in emp.items():\n",
    "    print(key)"
   ]
  },
  {
   "cell_type": "code",
   "execution_count": 13,
   "id": "44fc3415",
   "metadata": {},
   "outputs": [
    {
     "name": "stdout",
     "output_type": "stream",
     "text": [
      "eid : 101\n",
      "ename : Rahul Gandhi\n",
      "esal : 45000.0\n"
     ]
    }
   ],
   "source": [
    "emp = {\n",
    "    'eid':101,\n",
    "    'ename':'Rahul Gandhi',\n",
    "    'esal':45000.00\n",
    "}\n",
    "\n",
    "\n",
    "for key,value in emp.items():\n",
    "    print(key,\":\",value)"
   ]
  },
  {
   "cell_type": "code",
   "execution_count": null,
   "id": "b67a249e",
   "metadata": {},
   "outputs": [],
   "source": []
  }
 ],
 "metadata": {
  "kernelspec": {
   "display_name": "Python 3 (ipykernel)",
   "language": "python",
   "name": "python3"
  },
  "language_info": {
   "codemirror_mode": {
    "name": "ipython",
    "version": 3
   },
   "file_extension": ".py",
   "mimetype": "text/x-python",
   "name": "python",
   "nbconvert_exporter": "python",
   "pygments_lexer": "ipython3",
   "version": "3.7.0"
  }
 },
 "nbformat": 4,
 "nbformat_minor": 5
}
