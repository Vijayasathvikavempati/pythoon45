{
 "cells": [
  {
   "cell_type": "code",
   "execution_count": 1,
   "id": "096ab827",
   "metadata": {},
   "outputs": [
    {
     "name": "stdout",
     "output_type": "stream",
     "text": [
      "Enter Tuple Object(10,20,30)\n"
     ]
    }
   ],
   "source": [
    "t1 = ()   #empty tuple object\n",
    "t2=  (10,20,30,10,40.5, \"Rahul\", True, [],{} )\n",
    "t3=eval(input(\"Enter Tuple Object\"))\n",
    "\n",
    "t4 = tuple(range(10))\n",
    "\n",
    "\n"
   ]
  },
  {
   "cell_type": "code",
   "execution_count": 2,
   "id": "b59c8f7b",
   "metadata": {},
   "outputs": [
    {
     "name": "stdout",
     "output_type": "stream",
     "text": [
      "Enter Tuple Object(\"Rahul\",\"Priyanka\",10,20)\n",
      "()\n",
      "(10, 20, 30, 10, 40.5, 'Rahul', True, [], {})\n",
      "('Rahul', 'Priyanka', 10, 20)\n",
      "(0, 1, 2, 3, 4, 5, 6, 7, 8, 9)\n"
     ]
    }
   ],
   "source": [
    "t1 = ()   #empty tuple object\n",
    "t2=  (10,20,30,10,40.5, \"Rahul\", True, [],{} )\n",
    "t3=eval(input(\"Enter Tuple Object\"))\n",
    "\n",
    "t4 = tuple(range(10))\n",
    "\n",
    "print(t1)\n",
    "print(t2)\n",
    "print(t3)\n",
    "print(t4)"
   ]
  },
  {
   "cell_type": "code",
   "execution_count": 3,
   "id": "39a113f9",
   "metadata": {},
   "outputs": [
    {
     "ename": "TypeError",
     "evalue": "'int' object is not iterable",
     "output_type": "error",
     "traceback": [
      "\u001b[1;31m---------------------------------------------------------------------------\u001b[0m",
      "\u001b[1;31mTypeError\u001b[0m                                 Traceback (most recent call last)",
      "\u001b[1;32m~\\AppData\\Local\\Temp\\ipykernel_13556\\1911224558.py\u001b[0m in \u001b[0;36m<module>\u001b[1;34m\u001b[0m\n\u001b[1;32m----> 1\u001b[1;33m \u001b[0mt1\u001b[0m \u001b[1;33m=\u001b[0m \u001b[0mtuple\u001b[0m\u001b[1;33m(\u001b[0m\u001b[1;36m10\u001b[0m\u001b[1;33m)\u001b[0m\u001b[1;33m\u001b[0m\u001b[0m\n\u001b[0m\u001b[0;32m      2\u001b[0m \u001b[0mt2\u001b[0m \u001b[1;33m=\u001b[0m \u001b[0mtuple\u001b[0m\u001b[1;33m(\u001b[0m\u001b[1;33m[\u001b[0m\u001b[1;36m10\u001b[0m\u001b[1;33m,\u001b[0m\u001b[1;36m20\u001b[0m\u001b[1;33m,\u001b[0m\u001b[1;36m30\u001b[0m\u001b[1;33m]\u001b[0m\u001b[1;33m)\u001b[0m\u001b[1;33m\u001b[0m\u001b[0m\n\u001b[0;32m      3\u001b[0m \u001b[0mt3\u001b[0m\u001b[1;33m=\u001b[0m \u001b[0mtupe\u001b[0m\u001b[1;33m(\u001b[0m\u001b[1;33m{\u001b[0m\u001b[1;36m10\u001b[0m\u001b[1;33m,\u001b[0m\u001b[1;36m20\u001b[0m\u001b[1;33m,\u001b[0m\u001b[1;36m30\u001b[0m\u001b[1;33m,\u001b[0m\u001b[1;36m10\u001b[0m\u001b[1;33m}\u001b[0m\u001b[1;33m)\u001b[0m\u001b[1;33m\u001b[0m\u001b[0m\n\u001b[0;32m      4\u001b[0m \u001b[1;33m\u001b[0m\u001b[0m\n\u001b[0;32m      5\u001b[0m \u001b[0mprint\u001b[0m\u001b[1;33m(\u001b[0m\u001b[0mt1\u001b[0m\u001b[1;33m)\u001b[0m\u001b[1;33m\u001b[0m\u001b[0m\n",
      "\u001b[1;31mTypeError\u001b[0m: 'int' object is not iterable"
     ]
    }
   ],
   "source": [
    "t1 = tuple(10)\n",
    "t2 = tuple([10,20,30])\n",
    "t3= tupe({10,20,30,10})\n",
    "\n",
    "print(t1)\n",
    "print(t2)\n",
    "print(t4)"
   ]
  },
  {
   "cell_type": "code",
   "execution_count": 5,
   "id": "bc1367d1",
   "metadata": {},
   "outputs": [
    {
     "name": "stdout",
     "output_type": "stream",
     "text": [
      "(10, 20, 30)\n",
      "(0, 1, 2, 3, 4, 5, 6, 7, 8, 9)\n"
     ]
    }
   ],
   "source": [
    "#t1 = tuple(10)\n",
    "t2 = tuple([10,20,30])\n",
    "t3=  tuple({10,20,30,10})\n",
    "\n",
    "#print(t1)\n",
    "print(t2)\n",
    "print(t4)"
   ]
  },
  {
   "cell_type": "code",
   "execution_count": 6,
   "id": "c43aa519",
   "metadata": {},
   "outputs": [
    {
     "name": "stdout",
     "output_type": "stream",
     "text": [
      "(10, 20, 30)\n",
      "(10, 20, 30)\n",
      "(0, 1, 2, 3, 4, 5, 6, 7, 8, 9)\n"
     ]
    }
   ],
   "source": [
    "t1 = tuple(range(10))\n",
    "t2 = tuple([10,20,30])\n",
    "t3=  tuple({10,20,30,10})\n",
    "\n",
    "print(t3)\n",
    "print(t2)\n",
    "print(t1)"
   ]
  },
  {
   "cell_type": "code",
   "execution_count": 7,
   "id": "b1a7faa8",
   "metadata": {},
   "outputs": [
    {
     "name": "stdout",
     "output_type": "stream",
     "text": [
      "Rahul\n"
     ]
    }
   ],
   "source": [
    "enames=(\"Rahul\",\"Sonia\",\"Priyanka\",\"Modi\", \"Ankith\")\n",
    "\n",
    "print(enames[0])\n",
    "\n"
   ]
  },
  {
   "cell_type": "code",
   "execution_count": 8,
   "id": "36328620",
   "metadata": {},
   "outputs": [
    {
     "name": "stdout",
     "output_type": "stream",
     "text": [
      "Rahul\n",
      "Sonia\n",
      "Priyanka\n",
      "Modi\n",
      "Ankith\n"
     ]
    }
   ],
   "source": [
    "enames=(\"Rahul\",\"Sonia\",\"Priyanka\",\"Modi\", \"Ankith\")\n",
    "\n",
    "\n",
    "for ename in enames:\n",
    "    print(ename)"
   ]
  },
  {
   "cell_type": "code",
   "execution_count": 9,
   "id": "80aeac00",
   "metadata": {},
   "outputs": [
    {
     "name": "stdout",
     "output_type": "stream",
     "text": [
      "Rahul\n",
      "Sonia\n",
      "Priyanka\n",
      "Modi\n",
      "Ankith\n"
     ]
    }
   ],
   "source": [
    "enames=(\"Rahul\",\"Sonia\",\"Priyanka\",\"Modi\", \"Ankith\")\n",
    "#          0        1       2        3         4\n",
    "i=0\n",
    "while i<= len(enames)-1:\n",
    "    print(enames[i])\n",
    "    i=i+1"
   ]
  },
  {
   "cell_type": "code",
   "execution_count": 10,
   "id": "26cedaee",
   "metadata": {},
   "outputs": [
    {
     "ename": "AttributeError",
     "evalue": "'tuple' object has no attribute 'sort'",
     "output_type": "error",
     "traceback": [
      "\u001b[1;31m---------------------------------------------------------------------------\u001b[0m",
      "\u001b[1;31mAttributeError\u001b[0m                            Traceback (most recent call last)",
      "\u001b[1;32m~\\AppData\\Local\\Temp\\ipykernel_13556\\2040590612.py\u001b[0m in \u001b[0;36m<module>\u001b[1;34m\u001b[0m\n\u001b[0;32m      3\u001b[0m \u001b[1;31m#how to sort tuple object\u001b[0m\u001b[1;33m\u001b[0m\u001b[1;33m\u001b[0m\u001b[0m\n\u001b[0;32m      4\u001b[0m \u001b[1;33m\u001b[0m\u001b[0m\n\u001b[1;32m----> 5\u001b[1;33m \u001b[0menames\u001b[0m\u001b[1;33m.\u001b[0m\u001b[0msort\u001b[0m\u001b[1;33m(\u001b[0m\u001b[1;33m)\u001b[0m\u001b[1;33m\u001b[0m\u001b[0m\n\u001b[0m",
      "\u001b[1;31mAttributeError\u001b[0m: 'tuple' object has no attribute 'sort'"
     ]
    }
   ],
   "source": [
    "enames=(\"Rahul\",\"Sonia\",\"Priyanka\",\"Modi\", \"Ankith\")\n",
    "\n",
    "#how to sort tuple object\n",
    "\n",
    "enames.sort()\n"
   ]
  },
  {
   "cell_type": "code",
   "execution_count": 15,
   "id": "202248a7",
   "metadata": {},
   "outputs": [
    {
     "name": "stdout",
     "output_type": "stream",
     "text": [
      "('Ankith', 'Modi', 'Priyanka', 'Rahul', 'Sonia')\n"
     ]
    }
   ],
   "source": [
    "enames=(\"Rahul\",\"Sonia\",\"Priyanka\",\"Modi\", \"Ankith\")\n",
    "\n",
    "print(tuple(sorted(enames)))"
   ]
  },
  {
   "cell_type": "code",
   "execution_count": 16,
   "id": "0d24fe56",
   "metadata": {},
   "outputs": [
    {
     "name": "stdout",
     "output_type": "stream",
     "text": [
      "('Sonia', 'Rahul', 'Priyanka', 'Modi', 'Ankith')\n"
     ]
    }
   ],
   "source": [
    "enames=(\"Rahul\",\"Sonia\",\"Priyanka\",\"Modi\", \"Ankith\")\n",
    "\n",
    "print(tuple(sorted(enames,reverse=True)))"
   ]
  },
  {
   "cell_type": "code",
   "execution_count": null,
   "id": "84943270",
   "metadata": {},
   "outputs": [],
   "source": []
  }
 ],
 "metadata": {
  "kernelspec": {
   "display_name": "Python 3 (ipykernel)",
   "language": "python",
   "name": "python3"
  },
  "language_info": {
   "codemirror_mode": {
    "name": "ipython",
    "version": 3
   },
   "file_extension": ".py",
   "mimetype": "text/x-python",
   "name": "python",
   "nbconvert_exporter": "python",
   "pygments_lexer": "ipython3",
   "version": "3.7.0"
  }
 },
 "nbformat": 4,
 "nbformat_minor": 5
}
