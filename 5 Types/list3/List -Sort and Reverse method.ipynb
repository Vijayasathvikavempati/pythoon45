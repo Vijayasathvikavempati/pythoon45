{
 "cells": [
  {
   "cell_type": "code",
   "execution_count": 1,
   "id": "9b3dca09",
   "metadata": {},
   "outputs": [
    {
     "name": "stdout",
     "output_type": "stream",
     "text": [
      "[4, 6, 9, 12, 54, 78]\n",
      "['Ankith', 'Modi', 'Priyanka', 'Rahul', 'Sonia']\n"
     ]
    }
   ],
   "source": [
    "enames=[\"Rahul\",\"Sonia\",\"Priyanka\",\"Modi\",\"Ankith\"]\n",
    "\n",
    "eids=[54,6,78,12,4,9]\n",
    "eids.sort()\n",
    "enames.sort()\n",
    "\n",
    "print(eids)\n",
    "print(enames)"
   ]
  },
  {
   "cell_type": "code",
   "execution_count": 2,
   "id": "5ac536a8",
   "metadata": {},
   "outputs": [
    {
     "name": "stdout",
     "output_type": "stream",
     "text": [
      "[4, 14, 34, 44]\n"
     ]
    }
   ],
   "source": [
    "#Default - Sorting order is - Natural Sorting order\n",
    "# Asending order - 0 to 8\n",
    "# A- Z\n",
    "\n",
    "eids=[44,34,14,4]\n",
    "eids.sort()\n",
    "print(eids)\n"
   ]
  },
  {
   "cell_type": "code",
   "execution_count": 4,
   "id": "e3d11ef7",
   "metadata": {},
   "outputs": [
    {
     "name": "stdout",
     "output_type": "stream",
     "text": [
      "[44, 34, 14, 4]\n"
     ]
    }
   ],
   "source": [
    "eids=[44,34,14,4]\n",
    "eids.sort(reverse=True)\n",
    "print(eids)"
   ]
  },
  {
   "cell_type": "code",
   "execution_count": 5,
   "id": "295b6038",
   "metadata": {},
   "outputs": [
    {
     "name": "stdout",
     "output_type": "stream",
     "text": [
      "['Sonia', 'Rahul', 'Priyanka', 'Modi', 'Ankith']\n"
     ]
    }
   ],
   "source": [
    "enames=[\"Rahul\",\"Sonia\",\"Priyanka\",\"Modi\",\"Ankith\"]\n",
    "\n",
    "enames.sort(reverse=True)\n",
    "print(enames)"
   ]
  },
  {
   "cell_type": "code",
   "execution_count": 6,
   "id": "a82dc707",
   "metadata": {},
   "outputs": [
    {
     "name": "stdout",
     "output_type": "stream",
     "text": [
      "[78, 67, 45, 34]\n"
     ]
    }
   ],
   "source": [
    "prices=[34,45,67,78]\n",
    "prices.reverse()\n",
    "print(prices)"
   ]
  },
  {
   "cell_type": "code",
   "execution_count": 9,
   "id": "a0ebd618",
   "metadata": {},
   "outputs": [
    {
     "name": "stdout",
     "output_type": "stream",
     "text": [
      "[10, 20, 30, 40, 50, 60, 70, 80]\n"
     ]
    }
   ],
   "source": [
    "a=[10,20,30,40]\n",
    "b =[50,60,70,80]\n",
    "\n",
    "a.extend([50,60,70,80])\n",
    "\n",
    "print(a)"
   ]
  },
  {
   "cell_type": "code",
   "execution_count": null,
   "id": "3a09006f",
   "metadata": {},
   "outputs": [],
   "source": []
  }
 ],
 "metadata": {
  "kernelspec": {
   "display_name": "Python 3 (ipykernel)",
   "language": "python",
   "name": "python3"
  },
  "language_info": {
   "codemirror_mode": {
    "name": "ipython",
    "version": 3
   },
   "file_extension": ".py",
   "mimetype": "text/x-python",
   "name": "python",
   "nbconvert_exporter": "python",
   "pygments_lexer": "ipython3",
   "version": "3.7.0"
  }
 },
 "nbformat": 4,
 "nbformat_minor": 5
}
