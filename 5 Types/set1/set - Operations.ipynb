{
 "cells": [
  {
   "cell_type": "code",
   "execution_count": 1,
   "id": "2c3d4574",
   "metadata": {},
   "outputs": [
    {
     "name": "stdout",
     "output_type": "stream",
     "text": [
      "{40, 10, 50, 20, 60, 30}\n",
      "{40, 10, 50, 20, 60, 30}\n"
     ]
    }
   ],
   "source": [
    "s1 = {10,20,30,40}\n",
    "s2 = {30,40,50,60}\n",
    "print(s1.union(s2))\n",
    "print(s1 | s2)"
   ]
  },
  {
   "cell_type": "code",
   "execution_count": 5,
   "id": "5850f283",
   "metadata": {},
   "outputs": [
    {
     "name": "stdout",
     "output_type": "stream",
     "text": [
      "{40, 30}\n",
      "{40, 30}\n"
     ]
    }
   ],
   "source": [
    "s1 = {10,20,30,40}\n",
    "s2 = {30,40,50,60}\n",
    "print(s1.intersection(s2))\n",
    "print(s1 & s2)"
   ]
  },
  {
   "cell_type": "code",
   "execution_count": 6,
   "id": "523af4cb",
   "metadata": {},
   "outputs": [
    {
     "name": "stdout",
     "output_type": "stream",
     "text": [
      "{10, 20}\n",
      "{10, 20}\n"
     ]
    }
   ],
   "source": [
    "s1 = {10,20,30,40}\n",
    "s2 = {30,40,50,60}\n",
    "print(s1.difference(s2))\n",
    "print(s1 - s2)"
   ]
  },
  {
   "cell_type": "code",
   "execution_count": 7,
   "id": "5fe90b8c",
   "metadata": {},
   "outputs": [
    {
     "name": "stdout",
     "output_type": "stream",
     "text": [
      "{50, 60}\n",
      "{50, 60}\n"
     ]
    }
   ],
   "source": [
    "s1 = {10,20,30,40}\n",
    "s2 = {30,40,50,60}\n",
    "print(s2.difference(s1))\n",
    "print(s2 - s1)"
   ]
  },
  {
   "cell_type": "code",
   "execution_count": 9,
   "id": "5c1a730b",
   "metadata": {},
   "outputs": [
    {
     "name": "stdout",
     "output_type": "stream",
     "text": [
      "{10, 50, 20, 60}\n",
      "{10, 50, 20, 60}\n"
     ]
    }
   ],
   "source": [
    "s1 = {10,20,30,40}\n",
    "s2 = {30,40,50,60}\n",
    "print(s2.symmetric_difference(s1))\n",
    "print(s1 ^ s2)"
   ]
  },
  {
   "cell_type": "code",
   "execution_count": null,
   "id": "a225708b",
   "metadata": {},
   "outputs": [],
   "source": []
  }
 ],
 "metadata": {
  "kernelspec": {
   "display_name": "Python 3 (ipykernel)",
   "language": "python",
   "name": "python3"
  },
  "language_info": {
   "codemirror_mode": {
    "name": "ipython",
    "version": 3
   },
   "file_extension": ".py",
   "mimetype": "text/x-python",
   "name": "python",
   "nbconvert_exporter": "python",
   "pygments_lexer": "ipython3",
   "version": "3.7.0"
  }
 },
 "nbformat": 4,
 "nbformat_minor": 5
}
