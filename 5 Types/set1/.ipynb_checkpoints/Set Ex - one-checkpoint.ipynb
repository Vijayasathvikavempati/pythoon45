{
 "cells": [
  {
   "cell_type": "code",
   "execution_count": 1,
   "id": "a8d626a4",
   "metadata": {},
   "outputs": [
    {
     "name": "stdout",
     "output_type": "stream",
     "text": [
      "{}\n",
      "<class 'dict'>\n"
     ]
    }
   ],
   "source": [
    "s1 = {}\n",
    "print(s1)\n",
    "print(type(s1))"
   ]
  },
  {
   "cell_type": "code",
   "execution_count": 3,
   "id": "6be2acdb",
   "metadata": {},
   "outputs": [
    {
     "name": "stdout",
     "output_type": "stream",
     "text": [
      "{10}\n",
      "<class 'set'>\n"
     ]
    }
   ],
   "source": [
    "s2 = set([10])\n",
    "print(s2)\n",
    "print(type(s2))"
   ]
  },
  {
   "cell_type": "code",
   "execution_count": 4,
   "id": "b50255f7",
   "metadata": {},
   "outputs": [
    {
     "name": "stdout",
     "output_type": "stream",
     "text": [
      "set()\n"
     ]
    }
   ],
   "source": [
    "#create empty set object\n",
    "#using set function\n",
    "\n",
    "s2 = set()\n",
    "print(s2)"
   ]
  },
  {
   "cell_type": "code",
   "execution_count": 5,
   "id": "858bdef2",
   "metadata": {},
   "outputs": [
    {
     "name": "stdout",
     "output_type": "stream",
     "text": [
      "[]\n",
      "()\n",
      "{}\n",
      "{}\n"
     ]
    }
   ],
   "source": [
    "#create empyt list,typle,set,dict\n",
    "l1= []\n",
    "t1 = ()\n",
    "s1={}\n",
    "d1={}\n",
    "\n",
    "print(l1)\n",
    "print(t1)\n",
    "print(s1)\n",
    "print(d1)"
   ]
  },
  {
   "cell_type": "code",
   "execution_count": 6,
   "id": "30573c62",
   "metadata": {},
   "outputs": [
    {
     "name": "stdout",
     "output_type": "stream",
     "text": [
      "<class 'list'>\n",
      "<class 'tuple'>\n",
      "<class 'dict'>\n",
      "<class 'dict'>\n"
     ]
    }
   ],
   "source": [
    "#create empyt list,typle,set,dict\n",
    "l1= []\n",
    "t1 = ()\n",
    "s1={}\n",
    "d1={}\n",
    "\n",
    "print(type(l1))\n",
    "print(type(t1))\n",
    "print(type(s1))\n",
    "print(type(d1))"
   ]
  },
  {
   "cell_type": "code",
   "execution_count": 7,
   "id": "cd15b38c",
   "metadata": {},
   "outputs": [
    {
     "name": "stdout",
     "output_type": "stream",
     "text": [
      "set()\n",
      "<class 'set'>\n"
     ]
    }
   ],
   "source": [
    "s2 = set()\n",
    "print(s2)\n",
    "print(type(s2))"
   ]
  },
  {
   "cell_type": "code",
   "execution_count": 8,
   "id": "9158641d",
   "metadata": {},
   "outputs": [
    {
     "name": "stdout",
     "output_type": "stream",
     "text": [
      "{40, 10, 20, 30}\n"
     ]
    }
   ],
   "source": [
    "s4 = {10,20,30,40,10,20,30,40}\n",
    "print(s4)"
   ]
  },
  {
   "cell_type": "code",
   "execution_count": 9,
   "id": "6e05e860",
   "metadata": {},
   "outputs": [
    {
     "name": "stdout",
     "output_type": "stream",
     "text": [
      "{40, 10, 20, 30}\n"
     ]
    }
   ],
   "source": [
    "s4 = {10,20,30,40}\n",
    "print(s4)"
   ]
  },
  {
   "cell_type": "code",
   "execution_count": 10,
   "id": "b4404de7",
   "metadata": {},
   "outputs": [
    {
     "name": "stdout",
     "output_type": "stream",
     "text": [
      "{'sonia', 'rahul'}\n"
     ]
    }
   ],
   "source": [
    "enames={\"rahul\",\"sonia\",\"rahul\",\"sonia\"}\n",
    "\n",
    "print(enames)"
   ]
  },
  {
   "cell_type": "code",
   "execution_count": 12,
   "id": "5d5a1dd0",
   "metadata": {},
   "outputs": [
    {
     "name": "stdout",
     "output_type": "stream",
     "text": [
      "sonia\n",
      "rahul\n",
      "Modi\n",
      "priyanka\n"
     ]
    }
   ],
   "source": [
    "enames={\"rahul\",\"sonia\",\"priyanka\",\"Modi\"}\n",
    "\n",
    "for ename in enames:\n",
    "    print(ename)"
   ]
  },
  {
   "cell_type": "code",
   "execution_count": 13,
   "id": "1b53492a",
   "metadata": {},
   "outputs": [
    {
     "name": "stdout",
     "output_type": "stream",
     "text": [
      "{'sonia', 'Amith Shaw', 'rahul', 'priyanka', 'Modi'}\n"
     ]
    }
   ],
   "source": [
    "enames={\"rahul\",\"sonia\",\"priyanka\",\"Modi\"}\n",
    "enames.add(\"Amith Shaw\")\n",
    "\n",
    "print(enames)"
   ]
  },
  {
   "cell_type": "code",
   "execution_count": 14,
   "id": "6dc952c5",
   "metadata": {},
   "outputs": [
    {
     "name": "stdout",
     "output_type": "stream",
     "text": [
      "{'sonia', 'Amith Shaw', 'rahul', 'priyanka', 'Yedurappa', 'Modi'}\n"
     ]
    }
   ],
   "source": [
    "enames={\"rahul\",\"sonia\",\"priyanka\",\"Modi\"}\n",
    "\n",
    "enames.update([\"Amith Shaw\", \"Yedurappa\"])\n",
    "print(enames)"
   ]
  },
  {
   "cell_type": "code",
   "execution_count": 17,
   "id": "ddfc135c",
   "metadata": {},
   "outputs": [
    {
     "name": "stdout",
     "output_type": "stream",
     "text": [
      "{'sonia', 'Amith Shaw', 'rahul', 'priyanka', 'Yedurappa', 'Modi'}\n"
     ]
    }
   ],
   "source": [
    "enames={\"rahul\",\"sonia\",\"priyanka\",\"Modi\"}\n",
    "\n",
    "enames.update([\"Amith Shaw\", \"Yedurappa\"])\n",
    "\n",
    "print(enames)"
   ]
  },
  {
   "cell_type": "code",
   "execution_count": 18,
   "id": "a0da4a92",
   "metadata": {},
   "outputs": [
    {
     "name": "stdout",
     "output_type": "stream",
     "text": [
      "{'sonia', 'rahul', 'Modi', 'priyanka'}\n",
      "{'sonia', 'rahul', 'Modi', 'priyanka'}\n"
     ]
    }
   ],
   "source": [
    "enames={\"rahul\",\"sonia\",\"priyanka\",\"Modi\"}\n",
    "new_Enames= enames.copy()\n",
    "\n",
    "print(enames)\n",
    "print(new_Enames)"
   ]
  },
  {
   "cell_type": "code",
   "execution_count": null,
   "id": "32208c85",
   "metadata": {},
   "outputs": [],
   "source": []
  }
 ],
 "metadata": {
  "kernelspec": {
   "display_name": "Python 3 (ipykernel)",
   "language": "python",
   "name": "python3"
  },
  "language_info": {
   "codemirror_mode": {
    "name": "ipython",
    "version": 3
   },
   "file_extension": ".py",
   "mimetype": "text/x-python",
   "name": "python",
   "nbconvert_exporter": "python",
   "pygments_lexer": "ipython3",
   "version": "3.7.0"
  }
 },
 "nbformat": 4,
 "nbformat_minor": 5
}
