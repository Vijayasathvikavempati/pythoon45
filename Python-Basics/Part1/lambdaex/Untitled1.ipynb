{
 "cells": [
  {
   "cell_type": "code",
   "execution_count": 2,
   "id": "1172ee7c",
   "metadata": {},
   "outputs": [
    {
     "name": "stdout",
     "output_type": "stream",
     "text": [
      "[10, 20, 30, 40, 50]\n",
      "[20, 40, 60, 80, 100]\n"
     ]
    }
   ],
   "source": [
    "l1 = [10,20,30,40,50]\n",
    "#expected result is [20,40,60,80,100]\n",
    "l2=[]\n",
    "\n",
    "def doubleit(n):\n",
    "    return 2*n\n",
    "\n",
    "for ele in l1:\n",
    "    l2.append(doubleit(ele))\n",
    "\n",
    "print(l1)\n",
    "print(l2)"
   ]
  },
  {
   "cell_type": "code",
   "execution_count": 3,
   "id": "31aeb937",
   "metadata": {},
   "outputs": [
    {
     "name": "stdout",
     "output_type": "stream",
     "text": [
      "[10, 20, 30, 40, 50]\n",
      "[20, 40, 60, 80, 100]\n"
     ]
    }
   ],
   "source": [
    "l1 = [10,20,30,40,50]\n",
    "\n",
    "def doubleit(n):\n",
    "    return 2*n\n",
    "\n",
    "l2 = list(map(doubleit, l1))\n",
    "print(l1)\n",
    "print(l2)"
   ]
  },
  {
   "cell_type": "code",
   "execution_count": 4,
   "id": "5ee6b15e",
   "metadata": {},
   "outputs": [
    {
     "name": "stdout",
     "output_type": "stream",
     "text": [
      "[10, 20, 30, 40, 50]\n",
      "[20, 40, 60, 80, 100]\n"
     ]
    }
   ],
   "source": [
    "l1 = [10,20,30,40,50]\n",
    "\n",
    "#def doubleit(n):\n",
    "#    return 2*n\n",
    "\n",
    "l2 = list(map(lambda n:2*n, l1))\n",
    "print(l1)\n",
    "print(l2)"
   ]
  },
  {
   "cell_type": "code",
   "execution_count": 5,
   "id": "c8cf102f",
   "metadata": {},
   "outputs": [
    {
     "name": "stdout",
     "output_type": "stream",
     "text": [
      "2\n",
      "4\n",
      "6\n",
      "8\n",
      "10\n"
     ]
    }
   ],
   "source": [
    "numbers=[1,2,3,4,5,6,7,8,9,10]\n",
    "#print only even numbers\n",
    "\n",
    "for number in numbers:\n",
    "    if number %2 ==0:\n",
    "        print(number)"
   ]
  },
  {
   "cell_type": "code",
   "execution_count": 6,
   "id": "338cd9cd",
   "metadata": {},
   "outputs": [
    {
     "name": "stdout",
     "output_type": "stream",
     "text": [
      "[1, 2, 3, 4, 5, 6, 7, 8, 9, 10]\n",
      "[2, 4, 6, 8, 10]\n"
     ]
    }
   ],
   "source": [
    "numbers=[1,2,3,4,5,6,7,8,9,10]\n",
    "even_numbers=[]\n",
    "\n",
    "for num in numbers:\n",
    "    if num %2 ==0:\n",
    "        even_numbers.append(num)\n",
    "\n",
    "print(numbers)\n",
    "print(even_numbers)"
   ]
  },
  {
   "cell_type": "code",
   "execution_count": 7,
   "id": "b76d5f81",
   "metadata": {},
   "outputs": [
    {
     "name": "stdout",
     "output_type": "stream",
     "text": [
      "[1, 2, 3, 4, 5, 6, 7, 8, 9, 10]\n",
      "[2, 4, 6, 8, 10]\n"
     ]
    }
   ],
   "source": [
    "numbers=[1,2,3,4,5,6,7,8,9,10]\n",
    "\n",
    "def even_numbers(num):\n",
    "    return num%2 ==0\n",
    "\n",
    "filter_obj=filter(even_numbers, numbers)\n",
    "even_numbers=list(filter_obj)\n",
    "\n",
    "print(numbers)\n",
    "print(even_numbers)"
   ]
  },
  {
   "cell_type": "code",
   "execution_count": 8,
   "id": "7047013a",
   "metadata": {},
   "outputs": [
    {
     "name": "stdout",
     "output_type": "stream",
     "text": [
      "[1, 2, 3, 4, 5, 6, 7, 8, 9, 10]\n",
      "[2, 4, 6, 8, 10]\n"
     ]
    }
   ],
   "source": [
    "numbers=[1,2,3,4,5,6,7,8,9,10]\n",
    "\n",
    "even_numbers  = list(filter(lambda num:num %2 == 0 , numbers ))\n",
    "print(numbers)\n",
    "print(even_numbers)\n",
    "\n"
   ]
  },
  {
   "cell_type": "code",
   "execution_count": null,
   "id": "a7eb5b1b",
   "metadata": {},
   "outputs": [],
   "source": []
  }
 ],
 "metadata": {
  "kernelspec": {
   "display_name": "Python 3 (ipykernel)",
   "language": "python",
   "name": "python3"
  },
  "language_info": {
   "codemirror_mode": {
    "name": "ipython",
    "version": 3
   },
   "file_extension": ".py",
   "mimetype": "text/x-python",
   "name": "python",
   "nbconvert_exporter": "python",
   "pygments_lexer": "ipython3",
   "version": "3.7.0"
  }
 },
 "nbformat": 4,
 "nbformat_minor": 5
}
