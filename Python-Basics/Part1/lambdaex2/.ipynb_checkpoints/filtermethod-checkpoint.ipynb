{
 "cells": [
  {
   "cell_type": "code",
   "execution_count": 2,
   "id": "1fca25b8",
   "metadata": {},
   "outputs": [
    {
     "name": "stdout",
     "output_type": "stream",
     "text": [
      "<class 'dict'>\n"
     ]
    }
   ],
   "source": [
    "cars=[{'model':'swift','price':400001,'color':'white'},\n",
    "      {'model':'seltos','price':1800000,'color':'red'},\n",
    "\t  {'model':'nexon','price':20,'color':'white'},\n",
    "\t  {'model':'xuv500','price':40001,'color':'red'},\n",
    "\t  {'model':'q7','price':801,'color':'pink'},\n",
    "\t  {'model':'creta','price':400001,'color':'blue'},\n",
    "\t  {'model':'ghost','price':400001,'color':'white'},\n",
    "\t  {'model':'thar','price':400001,'color':'blue'},\n",
    "\t  {'model':'ecosport','price':400001,'color':'black'}\n",
    "\t  ]\n",
    "print(type(cars[0]))"
   ]
  },
  {
   "cell_type": "code",
   "execution_count": 4,
   "id": "c058d132",
   "metadata": {},
   "outputs": [
    {
     "name": "stdout",
     "output_type": "stream",
     "text": [
      "[{'model': 'swift', 'price': 400001, 'color': 'white'}, {'model': 'nexon', 'price': 20, 'color': 'white'}, {'model': 'ghost', 'price': 400001, 'color': 'white'}]\n"
     ]
    }
   ],
   "source": [
    "#print only white color cars - using for loop, function, lambda\n",
    "cars=[{'model':'swift','price':400001,'color':'white'},\n",
    "      {'model':'seltos','price':1800000,'color':'red'},\n",
    "\t  {'model':'nexon','price':20,'color':'white'},\n",
    "\t  {'model':'xuv500','price':40001,'color':'red'},\n",
    "\t  {'model':'q7','price':801,'color':'pink'},\n",
    "\t  {'model':'creta','price':400001,'color':'blue'},\n",
    "\t  {'model':'ghost','price':400001,'color':'white'},\n",
    "\t  {'model':'thar','price':400001,'color':'blue'},\n",
    "\t  {'model':'ecosport','price':400001,'color':'black'}\n",
    "\t  ]\n",
    "\n",
    "\n",
    "new_cars=[]\n",
    "\n",
    "for car in cars:\n",
    "    if  car['color'] =='white':\n",
    "        new_cars.append(car)\n",
    "#print(cars)\n",
    "print(new_cars)\n"
   ]
  },
  {
   "cell_type": "code",
   "execution_count": 6,
   "id": "5dd94073",
   "metadata": {},
   "outputs": [
    {
     "name": "stdout",
     "output_type": "stream",
     "text": [
      "[{'model': 'q7', 'price': 801, 'color': 'pink'}]\n"
     ]
    }
   ],
   "source": [
    "cars=[{'model':'swift','price':400001,'color':'white'},\n",
    "      {'model':'seltos','price':1800000,'color':'red'},\n",
    "\t  {'model':'nexon','price':20,'color':'white'},\n",
    "\t  {'model':'xuv500','price':40001,'color':'red'},\n",
    "\t  {'model':'q7','price':801,'color':'pink'},\n",
    "\t  {'model':'creta','price':400001,'color':'blue'},\n",
    "\t  {'model':'ghost','price':400001,'color':'white'},\n",
    "\t  {'model':'thar','price':400001,'color':'blue'},\n",
    "\t  {'model':'ecosport','price':400001,'color':'black'}\n",
    "     ]\n",
    "\n",
    "new_cars=[]\n",
    "\n",
    "def filter_cars(car):\n",
    "    if car['color']=='pink':\n",
    "        return True\n",
    "    else:\n",
    "        return False\n",
    "\n",
    "for car in cars:\n",
    "    if filter_cars(car):\n",
    "        new_cars.append(car)\n",
    "        \n",
    "    \n",
    "print(new_cars)"
   ]
  },
  {
   "cell_type": "code",
   "execution_count": 7,
   "id": "45922e38",
   "metadata": {},
   "outputs": [
    {
     "name": "stdout",
     "output_type": "stream",
     "text": [
      "[{'model': 'q7', 'price': 801, 'color': 'pink'}]\n"
     ]
    }
   ],
   "source": [
    "cars=[{'model':'swift','price':400001,'color':'white'},\n",
    "      {'model':'seltos','price':1800000,'color':'red'},\n",
    "\t  {'model':'nexon','price':20,'color':'white'},\n",
    "\t  {'model':'xuv500','price':40001,'color':'red'},\n",
    "\t  {'model':'q7','price':801,'color':'pink'},\n",
    "\t  {'model':'creta','price':400001,'color':'blue'},\n",
    "\t  {'model':'ghost','price':400001,'color':'white'},\n",
    "\t  {'model':'thar','price':400001,'color':'blue'},\n",
    "\t  {'model':'ecosport','price':400001,'color':'black'}\n",
    "     ]\n",
    "\n",
    "def filter_cars(car):\n",
    "    if car['color']=='pink':\n",
    "        return True\n",
    "    else:\n",
    "        return False\n",
    "\n",
    "\n",
    "new_cars=list(filter(filter_cars, cars))\n",
    "print(new_cars)"
   ]
  },
  {
   "cell_type": "code",
   "execution_count": 9,
   "id": "0ef62da0",
   "metadata": {},
   "outputs": [
    {
     "name": "stdout",
     "output_type": "stream",
     "text": [
      "[{'model': 'ecosport', 'price': 400001, 'color': 'black'}]\n"
     ]
    }
   ],
   "source": [
    "cars=[{'model':'swift','price':400001,'color':'white'},\n",
    "      {'model':'seltos','price':1800000,'color':'red'},\n",
    "\t  {'model':'nexon','price':20,'color':'white'},\n",
    "\t  {'model':'xuv500','price':40001,'color':'red'},\n",
    "\t  {'model':'q7','price':801,'color':'pink'},\n",
    "\t  {'model':'creta','price':400001,'color':'blue'},\n",
    "\t  {'model':'ghost','price':400001,'color':'white'},\n",
    "\t  {'model':'thar','price':400001,'color':'blue'},\n",
    "\t  {'model':'ecosport','price':400001,'color':'black'}\n",
    "     ]\n",
    "\n",
    "\n",
    "new_cars=list(filter(lambda  car:car['color']=='black' , cars))\n",
    "print(new_cars)"
   ]
  },
  {
   "cell_type": "code",
   "execution_count": null,
   "id": "b4954d28",
   "metadata": {},
   "outputs": [],
   "source": []
  }
 ],
 "metadata": {
  "kernelspec": {
   "display_name": "Python 3 (ipykernel)",
   "language": "python",
   "name": "python3"
  },
  "language_info": {
   "codemirror_mode": {
    "name": "ipython",
    "version": 3
   },
   "file_extension": ".py",
   "mimetype": "text/x-python",
   "name": "python",
   "nbconvert_exporter": "python",
   "pygments_lexer": "ipython3",
   "version": "3.7.0"
  }
 },
 "nbformat": 4,
 "nbformat_minor": 5
}
