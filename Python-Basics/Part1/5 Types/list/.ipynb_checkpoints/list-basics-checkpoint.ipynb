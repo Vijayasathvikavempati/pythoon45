{
 "cells": [
  {
   "cell_type": "code",
   "execution_count": 1,
   "id": "cad1af85",
   "metadata": {},
   "outputs": [
    {
     "name": "stdout",
     "output_type": "stream",
     "text": [
      "[]\n"
     ]
    }
   ],
   "source": [
    "size1 = []\n",
    "print(size1)"
   ]
  },
  {
   "cell_type": "code",
   "execution_count": 2,
   "id": "fe4be9bb",
   "metadata": {},
   "outputs": [
    {
     "name": "stdout",
     "output_type": "stream",
     "text": [
      "[38, 40, 42, 42]\n",
      "<class 'list'>\n"
     ]
    }
   ],
   "source": [
    "sizes=[38,40,42,42]\n",
    "print(sizes)\n",
    "print(type(sizes))"
   ]
  },
  {
   "cell_type": "code",
   "execution_count": 4,
   "id": "fa8122d0",
   "metadata": {},
   "outputs": [
    {
     "name": "stdout",
     "output_type": "stream",
     "text": [
      "Enter Value:[10,20]\n",
      "<class 'list'>\n"
     ]
    }
   ],
   "source": [
    "a=eval(input(\"Enter Value:\"))\n",
    "print(type(a))"
   ]
  },
  {
   "cell_type": "code",
   "execution_count": 5,
   "id": "679d12be",
   "metadata": {},
   "outputs": [
    {
     "name": "stdout",
     "output_type": "stream",
     "text": [
      "['Good', 'Evening,Welcome', 'to', 'Bangalore']\n"
     ]
    }
   ],
   "source": [
    "words =\"Good Evening,Welcome to Bangalore\".split()\n",
    "print(words)"
   ]
  },
  {
   "cell_type": "code",
   "execution_count": 6,
   "id": "48b19762",
   "metadata": {},
   "outputs": [
    {
     "name": "stdout",
     "output_type": "stream",
     "text": [
      "[101, 102, 103, 104, 105]\n"
     ]
    }
   ],
   "source": [
    "ids=[101,102,103,104,105]\n",
    "\n",
    "print(ids)"
   ]
  },
  {
   "cell_type": "code",
   "execution_count": 7,
   "id": "5ab50400",
   "metadata": {},
   "outputs": [
    {
     "name": "stdout",
     "output_type": "stream",
     "text": [
      "101\n"
     ]
    }
   ],
   "source": [
    "ids=[101,102,103,104,105]\n",
    "#read list elemetns \n",
    "print(ids[0])"
   ]
  },
  {
   "cell_type": "code",
   "execution_count": 9,
   "id": "2d290737",
   "metadata": {},
   "outputs": [
    {
     "name": "stdout",
     "output_type": "stream",
     "text": [
      "101\n",
      "102\n",
      "103\n",
      "104\n",
      "105\n"
     ]
    },
    {
     "ename": "IndexError",
     "evalue": "list index out of range",
     "output_type": "error",
     "traceback": [
      "\u001b[1;31m---------------------------------------------------------------------------\u001b[0m",
      "\u001b[1;31mIndexError\u001b[0m                                Traceback (most recent call last)",
      "\u001b[1;32m~\\AppData\\Local\\Temp\\ipykernel_18632\\1834670626.py\u001b[0m in \u001b[0;36m<module>\u001b[1;34m\u001b[0m\n\u001b[0;32m      6\u001b[0m \u001b[0mprint\u001b[0m\u001b[1;33m(\u001b[0m\u001b[0mids\u001b[0m\u001b[1;33m[\u001b[0m\u001b[1;36m3\u001b[0m\u001b[1;33m]\u001b[0m\u001b[1;33m)\u001b[0m\u001b[1;33m\u001b[0m\u001b[0m\n\u001b[0;32m      7\u001b[0m \u001b[0mprint\u001b[0m\u001b[1;33m(\u001b[0m\u001b[0mids\u001b[0m\u001b[1;33m[\u001b[0m\u001b[1;36m4\u001b[0m\u001b[1;33m]\u001b[0m\u001b[1;33m)\u001b[0m\u001b[1;33m\u001b[0m\u001b[0m\n\u001b[1;32m----> 8\u001b[1;33m \u001b[0mprint\u001b[0m\u001b[1;33m(\u001b[0m\u001b[0mids\u001b[0m\u001b[1;33m[\u001b[0m\u001b[1;36m5\u001b[0m\u001b[1;33m]\u001b[0m\u001b[1;33m)\u001b[0m\u001b[1;33m\u001b[0m\u001b[0m\n\u001b[0m",
      "\u001b[1;31mIndexError\u001b[0m: list index out of range"
     ]
    }
   ],
   "source": [
    "ids=[101,102,103,104,105]\n",
    "#read list elemetns \n",
    "print(ids[0])\n",
    "print(ids[1])\n",
    "print(ids[2])\n",
    "print(ids[3])\n",
    "print(ids[4])\n",
    "print(ids[5])"
   ]
  },
  {
   "cell_type": "code",
   "execution_count": 10,
   "id": "096fa7c3",
   "metadata": {},
   "outputs": [
    {
     "name": "stdout",
     "output_type": "stream",
     "text": [
      "105\n",
      "105\n"
     ]
    }
   ],
   "source": [
    "ids=[101,102,103,104,105]\n",
    "#     0   1  2    3  4\n",
    "#        -3   -2   -1\n",
    "# read list  last elmemnts \n",
    "\n",
    "print(ids[4])\n",
    "print(ids[-1])"
   ]
  },
  {
   "cell_type": "code",
   "execution_count": null,
   "id": "238fbf07",
   "metadata": {},
   "outputs": [],
   "source": [
    "#iterate list using for loop and while \n",
    "\n",
    "enames=[]"
   ]
  }
 ],
 "metadata": {
  "kernelspec": {
   "display_name": "Python 3 (ipykernel)",
   "language": "python",
   "name": "python3"
  },
  "language_info": {
   "codemirror_mode": {
    "name": "ipython",
    "version": 3
   },
   "file_extension": ".py",
   "mimetype": "text/x-python",
   "name": "python",
   "nbconvert_exporter": "python",
   "pygments_lexer": "ipython3",
   "version": "3.7.0"
  }
 },
 "nbformat": 4,
 "nbformat_minor": 5
}
