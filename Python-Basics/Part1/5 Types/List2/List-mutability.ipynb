{
 "cells": [
  {
   "cell_type": "code",
   "execution_count": 1,
   "id": "2db4d191",
   "metadata": {},
   "outputs": [
    {
     "name": "stdout",
     "output_type": "stream",
     "text": [
      "[101, 102, 103, 104]\n",
      "[101, 102, 103, 104, 105]\n"
     ]
    }
   ],
   "source": [
    "ids=[101,102,103,104]\n",
    "print(ids)\n",
    "ids.append(105)\n",
    "\n",
    "print(ids)"
   ]
  },
  {
   "cell_type": "code",
   "execution_count": 2,
   "id": "05ee95c2",
   "metadata": {},
   "outputs": [
    {
     "name": "stdout",
     "output_type": "stream",
     "text": [
      "[101, 102, 103, 104]\n",
      "[100, 101, 102, 103, 104]\n"
     ]
    }
   ],
   "source": [
    "ids=[101,102,103,104]\n",
    "print(ids)\n",
    "ids.insert(0,100)  # inserting the element at specified index pos\n",
    "print(ids)"
   ]
  },
  {
   "cell_type": "code",
   "execution_count": 3,
   "id": "9c061684",
   "metadata": {},
   "outputs": [
    {
     "name": "stdout",
     "output_type": "stream",
     "text": [
      "[101, 102, 103, 104]\n",
      "[]\n"
     ]
    }
   ],
   "source": [
    "#delete\n",
    "ids=[101,102,103,104]\n",
    "print(ids)\n",
    "ids.clear()  # removes all elemetns for list\n",
    "print(ids)"
   ]
  },
  {
   "cell_type": "code",
   "execution_count": 4,
   "id": "9099feea",
   "metadata": {},
   "outputs": [
    {
     "name": "stdout",
     "output_type": "stream",
     "text": [
      "[101, 102, 103]\n"
     ]
    }
   ],
   "source": [
    "ids=[101,102,103,104]\n",
    "\n",
    "ids.pop()\n",
    "\n",
    "print(ids)"
   ]
  },
  {
   "cell_type": "code",
   "execution_count": 6,
   "id": "cd7a6bba",
   "metadata": {},
   "outputs": [
    {
     "name": "stdout",
     "output_type": "stream",
     "text": [
      "104\n",
      "[101, 102, 103]\n"
     ]
    }
   ],
   "source": [
    "ids=[101,102,103,104]\n",
    " \n",
    "print(ids.pop())   # removes the last elemnt from list and return it\n",
    "print(ids)"
   ]
  },
  {
   "cell_type": "code",
   "execution_count": 7,
   "id": "a491d666",
   "metadata": {},
   "outputs": [
    {
     "ename": "IndexError",
     "evalue": "pop from empty list",
     "output_type": "error",
     "traceback": [
      "\u001b[1;31m---------------------------------------------------------------------------\u001b[0m",
      "\u001b[1;31mIndexError\u001b[0m                                Traceback (most recent call last)",
      "\u001b[1;32m~\\AppData\\Local\\Temp\\ipykernel_12964\\3508085647.py\u001b[0m in \u001b[0;36m<module>\u001b[1;34m\u001b[0m\n\u001b[0;32m      2\u001b[0m \u001b[1;33m\u001b[0m\u001b[0m\n\u001b[0;32m      3\u001b[0m \u001b[1;33m\u001b[0m\u001b[0m\n\u001b[1;32m----> 4\u001b[1;33m \u001b[0menames\u001b[0m\u001b[1;33m.\u001b[0m\u001b[0mpop\u001b[0m\u001b[1;33m(\u001b[0m\u001b[1;33m)\u001b[0m\u001b[1;33m\u001b[0m\u001b[0m\n\u001b[0m",
      "\u001b[1;31mIndexError\u001b[0m: pop from empty list"
     ]
    }
   ],
   "source": [
    "enames=[]  #empty list \n",
    "\n",
    "\n",
    "enames.pop()"
   ]
  },
  {
   "cell_type": "code",
   "execution_count": 8,
   "id": "67005b08",
   "metadata": {},
   "outputs": [
    {
     "name": "stdout",
     "output_type": "stream",
     "text": [
      "['Rahul', 'Priyanka', 'Modi', 'Amith']\n"
     ]
    }
   ],
   "source": [
    "employees = [\"Rahul\",\"Sonia\",\"Priyanka\",\"Modi\",\"Amith\"]\n",
    "\n",
    "employees.remove(\"Sonia\") # remove the specified elemetn from list\n",
    "\n",
    "print(employees)"
   ]
  },
  {
   "cell_type": "code",
   "execution_count": 9,
   "id": "0a72526d",
   "metadata": {},
   "outputs": [
    {
     "name": "stdout",
     "output_type": "stream",
     "text": [
      "7\n"
     ]
    }
   ],
   "source": [
    "ids=[101,102,101,102,102,103,104]\n",
    "\n",
    "print(len(ids))  #7"
   ]
  },
  {
   "cell_type": "code",
   "execution_count": 10,
   "id": "765b0946",
   "metadata": {},
   "outputs": [
    {
     "name": "stdout",
     "output_type": "stream",
     "text": [
      "1\n"
     ]
    }
   ],
   "source": [
    "ids=[101,102,101,102,102,103,104]\n",
    "\n",
    "print(ids.index(102))  # 1\n",
    "\n",
    "# index() - return index value of first occurance of specified element\n"
   ]
  },
  {
   "cell_type": "code",
   "execution_count": 11,
   "id": "f9ae4ac0",
   "metadata": {},
   "outputs": [
    {
     "name": "stdout",
     "output_type": "stream",
     "text": [
      "3\n"
     ]
    }
   ],
   "source": [
    "ids=[101,102,101,102,102,103,104]\n",
    "\n",
    "print(ids.count(102)) # 3\n",
    "#return the no of occurances of specifed elemnt"
   ]
  },
  {
   "cell_type": "code",
   "execution_count": null,
   "id": "3924856c",
   "metadata": {},
   "outputs": [],
   "source": []
  }
 ],
 "metadata": {
  "kernelspec": {
   "display_name": "Python 3 (ipykernel)",
   "language": "python",
   "name": "python3"
  },
  "language_info": {
   "codemirror_mode": {
    "name": "ipython",
    "version": 3
   },
   "file_extension": ".py",
   "mimetype": "text/x-python",
   "name": "python",
   "nbconvert_exporter": "python",
   "pygments_lexer": "ipython3",
   "version": "3.7.0"
  }
 },
 "nbformat": 4,
 "nbformat_minor": 5
}
