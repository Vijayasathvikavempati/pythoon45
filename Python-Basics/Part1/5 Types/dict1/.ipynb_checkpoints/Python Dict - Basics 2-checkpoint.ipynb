{
 "cells": [
  {
   "cell_type": "code",
   "execution_count": 1,
   "id": "6658ecf9",
   "metadata": {},
   "outputs": [
    {
     "name": "stdout",
     "output_type": "stream",
     "text": [
      "pid\n",
      "pname\n",
      "price\n",
      "color\n"
     ]
    }
   ],
   "source": [
    "product= {\n",
    "    'pid':'p101',\n",
    "    'pname':'iphone 18',\n",
    "    'price':18000.36,\n",
    "    'color':['orange','cherry','aqua']\n",
    "}\n",
    "\n",
    "#print all keys\n",
    "#print all values\n",
    "#print key and values\n",
    "for key in product.keys():\n",
    "    print(key)"
   ]
  },
  {
   "cell_type": "code",
   "execution_count": 2,
   "id": "93a144b3",
   "metadata": {},
   "outputs": [
    {
     "name": "stdout",
     "output_type": "stream",
     "text": [
      "p101\n",
      "iphone 18\n",
      "18000.36\n",
      "['orange', 'cherry', 'aqua']\n"
     ]
    }
   ],
   "source": [
    "product= {\n",
    "    'pid':'p101',\n",
    "    'pname':'iphone 18',\n",
    "    'price':18000.36,\n",
    "    'color':['orange','cherry','aqua']\n",
    "}\n",
    "\n",
    "for value in product.values():\n",
    "    print(value)"
   ]
  },
  {
   "cell_type": "code",
   "execution_count": 3,
   "id": "7ea8e4cf",
   "metadata": {},
   "outputs": [
    {
     "name": "stdout",
     "output_type": "stream",
     "text": [
      "pid : p101\n",
      "pname : iphone 18\n",
      "price : 18000.36\n",
      "color : ['orange', 'cherry', 'aqua']\n"
     ]
    }
   ],
   "source": [
    "product= {\n",
    "    'pid':'p101',\n",
    "    'pname':'iphone 18',\n",
    "    'price':18000.36,\n",
    "    'color':['orange','cherry','aqua']\n",
    "}\n",
    "\n",
    "for key,value in product.items():\n",
    "    print(key,\":\",value)\n"
   ]
  },
  {
   "cell_type": "code",
   "execution_count": 4,
   "id": "40ab2853",
   "metadata": {},
   "outputs": [
    {
     "name": "stdout",
     "output_type": "stream",
     "text": [
      "iphone 18\n"
     ]
    }
   ],
   "source": [
    "product= {\n",
    "    'pid':'p101',\n",
    "    'pname':'iphone 18',\n",
    "    'price':18000.36,\n",
    "    'color':['orange','cherry','aqua']\n",
    "}\n",
    "\n",
    "print(product['pname'])"
   ]
  },
  {
   "cell_type": "code",
   "execution_count": 6,
   "id": "7a083f40",
   "metadata": {},
   "outputs": [
    {
     "name": "stdout",
     "output_type": "stream",
     "text": [
      "aqua\n"
     ]
    }
   ],
   "source": [
    "product= {\n",
    "    'pid':'p101',\n",
    "    'pname':'iphone 18',\n",
    "    'price':18000.36,\n",
    "    'color':['orange','cherry','aqua']\n",
    "}\n",
    "\n",
    "\n",
    "print(product['color'][2])"
   ]
  },
  {
   "cell_type": "code",
   "execution_count": null,
   "id": "d347ebb9",
   "metadata": {},
   "outputs": [],
   "source": []
  }
 ],
 "metadata": {
  "kernelspec": {
   "display_name": "Python 3 (ipykernel)",
   "language": "python",
   "name": "python3"
  },
  "language_info": {
   "codemirror_mode": {
    "name": "ipython",
    "version": 3
   },
   "file_extension": ".py",
   "mimetype": "text/x-python",
   "name": "python",
   "nbconvert_exporter": "python",
   "pygments_lexer": "ipython3",
   "version": "3.7.0"
  }
 },
 "nbformat": 4,
 "nbformat_minor": 5
}
