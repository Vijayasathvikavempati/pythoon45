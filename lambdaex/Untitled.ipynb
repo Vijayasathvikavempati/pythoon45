{
 "cells": [
  {
   "cell_type": "code",
   "execution_count": 1,
   "id": "cd500b68",
   "metadata": {},
   "outputs": [
    {
     "name": "stdout",
     "output_type": "stream",
     "text": [
      "30\n"
     ]
    }
   ],
   "source": [
    "def sum(a,b):\n",
    "    return a+b\n",
    "\n",
    "\n",
    "\n",
    "r1 = sum(10,20)\n",
    "print(r1)"
   ]
  },
  {
   "cell_type": "code",
   "execution_count": 2,
   "id": "3f91d834",
   "metadata": {},
   "outputs": [
    {
     "data": {
      "text/plain": [
       "<function __main__.<lambda>(a, b)>"
      ]
     },
     "execution_count": 2,
     "metadata": {},
     "output_type": "execute_result"
    }
   ],
   "source": [
    "lambda a,b : a+b \n",
    "\n",
    "#how to execute lambda function\n",
    "#Assign lambda function to one variable \n",
    "\n"
   ]
  },
  {
   "cell_type": "code",
   "execution_count": 4,
   "id": "2eeeb7ba",
   "metadata": {},
   "outputs": [
    {
     "name": "stdout",
     "output_type": "stream",
     "text": [
      "3\n",
      "30\n",
      "RahulGandhi\n"
     ]
    }
   ],
   "source": [
    "sum = lambda a,b : a+b \n",
    "\n",
    "print(sum(1,2))\n",
    "print(sum(10,20))\n",
    "print(sum(\"Rahul\",\"Gandhi\"))"
   ]
  },
  {
   "cell_type": "code",
   "execution_count": 5,
   "id": "29b4c020",
   "metadata": {},
   "outputs": [
    {
     "name": "stdout",
     "output_type": "stream",
     "text": [
      "[98, 198, 298, 398]\n",
      "[99, 199, 299, 399]\n"
     ]
    }
   ],
   "source": [
    "prices = [98,198,298,398]\n",
    "#add every product price to one ruppee\n",
    "#expecting out put is : [99,199,299,399]\n",
    "\n",
    "new_prices=[]\n",
    "\n",
    "for price in prices:\n",
    "    new_prices.append(price+1)\n",
    "    \n",
    "print(prices)\n",
    "print(new_prices)"
   ]
  },
  {
   "cell_type": "code",
   "execution_count": 6,
   "id": "6c240a44",
   "metadata": {},
   "outputs": [
    {
     "name": "stdout",
     "output_type": "stream",
     "text": [
      "[98, 198, 298, 398]\n",
      "[99, 199, 299, 399]\n"
     ]
    }
   ],
   "source": [
    "prices = [98,198,298,398]\n",
    "\n",
    "\n",
    "def addone(price):\n",
    "    return price+1\n",
    "\n",
    "mapobj=map(addone,prices)\n",
    "new_prices = list(mapobj)\n",
    "\n",
    "print(prices)\n",
    "print(new_prices)"
   ]
  },
  {
   "cell_type": "code",
   "execution_count": 7,
   "id": "acf10421",
   "metadata": {},
   "outputs": [
    {
     "data": {
      "text/plain": [
       "<function __main__.<lambda>(price)>"
      ]
     },
     "execution_count": 7,
     "metadata": {},
     "output_type": "execute_result"
    }
   ],
   "source": [
    "'''def addone(price):\n",
    "    return price+1\n",
    "    \n",
    "'''\n",
    "\n",
    "lambda price:price+1\n"
   ]
  },
  {
   "cell_type": "code",
   "execution_count": 8,
   "id": "64be4b09",
   "metadata": {},
   "outputs": [
    {
     "name": "stdout",
     "output_type": "stream",
     "text": [
      "[99, 199, 299, 399]\n"
     ]
    }
   ],
   "source": [
    "prices = [98,198,298,398]\n",
    "\n",
    "print(list(map(lambda price:price+1, prices)))"
   ]
  },
  {
   "cell_type": "code",
   "execution_count": null,
   "id": "b6f95d66",
   "metadata": {},
   "outputs": [],
   "source": []
  }
 ],
 "metadata": {
  "kernelspec": {
   "display_name": "Python 3 (ipykernel)",
   "language": "python",
   "name": "python3"
  },
  "language_info": {
   "codemirror_mode": {
    "name": "ipython",
    "version": 3
   },
   "file_extension": ".py",
   "mimetype": "text/x-python",
   "name": "python",
   "nbconvert_exporter": "python",
   "pygments_lexer": "ipython3",
   "version": "3.7.0"
  }
 },
 "nbformat": 4,
 "nbformat_minor": 5
}
