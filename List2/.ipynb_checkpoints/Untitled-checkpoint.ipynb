{
 "cells": [
  {
   "cell_type": "code",
   "execution_count": 1,
   "id": "cc77acd0",
   "metadata": {},
   "outputs": [
    {
     "name": "stdout",
     "output_type": "stream",
     "text": [
      "Enter List:[10,20.5,\"Rahul\", True,(),{10},{}]\n",
      "<class 'list'>\n",
      "<class 'list'>\n",
      "<class 'list'>\n",
      "<class 'list'>\n"
     ]
    }
   ],
   "source": [
    "ids1=[]  #empty list object \n",
    "ids2 =[101,102,103,104] \n",
    "ids3=list(range(100))\n",
    "ids4=eval(input(\"Enter List:\"))\n",
    "\n",
    "print(type(ids1))\n",
    "print(type(ids2))\n",
    "print(type(ids3))\n",
    "print(type(ids4))"
   ]
  },
  {
   "cell_type": "code",
   "execution_count": 3,
   "id": "5e51b527",
   "metadata": {},
   "outputs": [
    {
     "name": "stdout",
     "output_type": "stream",
     "text": [
      "[0, 1, 2, 3, 4, 5, 6, 7, 8, 9]\n"
     ]
    }
   ],
   "source": [
    "numbers=list(range(10))\n",
    "print(numbers)\n"
   ]
  },
  {
   "cell_type": "code",
   "execution_count": 5,
   "id": "3777929a",
   "metadata": {},
   "outputs": [
    {
     "name": "stdout",
     "output_type": "stream",
     "text": [
      "['Hello,', 'GE!', 'Heavy', 'Traffic']\n"
     ]
    }
   ],
   "source": [
    "words = \"Hello, GE! Heavy Traffic\".split()\n",
    "\n",
    "print(words)"
   ]
  },
  {
   "cell_type": "code",
   "execution_count": 6,
   "id": "4bf41400",
   "metadata": {},
   "outputs": [
    {
     "name": "stdout",
     "output_type": "stream",
     "text": [
      "101\n",
      "101\n",
      "102\n",
      "102\n",
      "103\n",
      "103\n"
     ]
    }
   ],
   "source": [
    "#read opeation\n",
    "#how to access list elemnts - using indexing and slice operator\n",
    "\n",
    "ids =[101,102,103,104] \n",
    "\n",
    "print(ids[0])\n",
    "print(ids[-4])\n",
    "print(ids[1])\n",
    "print(ids[-3])\n",
    "print(ids[2])\n",
    "print(ids[-2])\n",
    "\n"
   ]
  },
  {
   "cell_type": "code",
   "execution_count": 8,
   "id": "707b483a",
   "metadata": {},
   "outputs": [
    {
     "name": "stdout",
     "output_type": "stream",
     "text": [
      "Rahul\n",
      "Sonai\n",
      "Priyanka\n",
      "Modi\n",
      "Amith\n"
     ]
    }
   ],
   "source": [
    "\n",
    "for ename in enames:\n",
    "    print(enames)"
   ]
  },
  {
   "cell_type": "code",
   "execution_count": 9,
   "id": "96535446",
   "metadata": {},
   "outputs": [
    {
     "name": "stdout",
     "output_type": "stream",
     "text": [
      "Rahul\n",
      "Sonai\n",
      "Priyanka\n",
      "Modi\n",
      "Amith\n"
     ]
    }
   ],
   "source": [
    "employees = [\"Rahul\",\"Sonai\",\"Priyanka\",\"Modi\",\"Amith\"]\n",
    "\n",
    "#iterate through while syntax\n",
    "\n",
    "i=0  \n",
    "while i<=len(employees)-1:\n",
    "    print(employees[i])\n",
    "    i=i+1"
   ]
  },
  {
   "cell_type": "code",
   "execution_count": 10,
   "id": "91f778a0",
   "metadata": {},
   "outputs": [
    {
     "name": "stdout",
     "output_type": "stream",
     "text": [
      "Rahul\n",
      "Sonai\n",
      "Priyanka\n",
      "Modi\n",
      "Amith\n"
     ]
    }
   ],
   "source": [
    "employees = [\"Rahul\",\"Sonai\",\"Priyanka\",\"Modi\",\"Amith\"]\n",
    "\n",
    "for emp in employees:\n",
    "    print(emp)"
   ]
  },
  {
   "cell_type": "code",
   "execution_count": 16,
   "id": "3a8aafdb",
   "metadata": {},
   "outputs": [
    {
     "name": "stdout",
     "output_type": "stream",
     "text": [
      "Rahul\n",
      "['Rahul', 'Sonai', 'Priyanka', 'Modi', 'Amith']\n",
      "['Rahul', 'Sonai']\n"
     ]
    }
   ],
   "source": [
    "users = [\"Rahul\",\"Sonai\",\"Priyanka\",\"Modi\",\"Amith\"]\n",
    "\n",
    "print(users[0])\n",
    "print(users[:])  # getting all elements\n",
    "print(users[0:2])"
   ]
  },
  {
   "cell_type": "code",
   "execution_count": null,
   "id": "2316ba78",
   "metadata": {},
   "outputs": [],
   "source": []
  }
 ],
 "metadata": {
  "kernelspec": {
   "display_name": "Python 3 (ipykernel)",
   "language": "python",
   "name": "python3"
  },
  "language_info": {
   "codemirror_mode": {
    "name": "ipython",
    "version": 3
   },
   "file_extension": ".py",
   "mimetype": "text/x-python",
   "name": "python",
   "nbconvert_exporter": "python",
   "pygments_lexer": "ipython3",
   "version": "3.7.0"
  }
 },
 "nbformat": 4,
 "nbformat_minor": 5
}
